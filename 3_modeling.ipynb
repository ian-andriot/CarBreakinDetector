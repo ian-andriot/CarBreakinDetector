{
 "cells": [
  {
   "cell_type": "code",
   "execution_count": 1,
   "metadata": {
    "ExecuteTime": {
     "end_time": "2020-10-20T05:20:21.431950Z",
     "start_time": "2020-10-20T05:20:16.402800Z"
    }
   },
   "outputs": [],
   "source": [
    "import numpy as np\n",
    "import pandas as pd\n",
    "import matplotlib.pyplot as plt\n",
    "\n",
    "from joblib import dump, load\n",
    "import tensorflow.lite as tf_lite # for saving a lightweight model\n",
    "\n",
    "from sklearn.svm import SVC\n",
    "from sklearn.preprocessing import StandardScaler\n",
    "from sklearn.model_selection import train_test_split\n",
    "from sklearn.decomposition import PCA\n",
    "from sklearn.pipeline import Pipeline, make_pipeline\n",
    "from sklearn.metrics import (\n",
    "    plot_confusion_matrix, confusion_matrix, roc_auc_score, make_scorer\n",
    ")\n",
    "from sklearn.base import BaseEstimator, TransformerMixin\n",
    "\n",
    "from tensorflow.keras.models import Sequential\n",
    "from tensorflow.keras.layers import (\n",
    "    Dense, Flatten, Conv2D, MaxPooling2D, BatchNormalization, Dropout, Input\n",
    ")\n",
    "from tensorflow.keras.preprocessing.image import ImageDataGenerator\n",
    "from tensorflow.keras.callbacks import EarlyStopping\n",
    "from tensorflow.keras.optimizers import Adam\n",
    "\n",
    "from skimage.feature import hog\n",
    "from skimage.io import imread_collection\n",
    "from skimage.color import rgb2gray\n",
    "from skimage.transform import resize\n",
    "\n",
    "from skopt import BayesSearchCV\n",
    "from kerastuner import HyperModel, Hyperband\n",
    "\n",
    "from imblearn.over_sampling import SMOTE\n",
    "\n",
    "np.random.seed(42)"
   ]
  },
  {
   "cell_type": "markdown",
   "metadata": {},
   "source": [
    "# Custom Transformers\n",
    "Based on the work done in the eda notebook, custom transformers were created to be used in a pipeline."
   ]
  },
  {
   "cell_type": "code",
   "execution_count": 2,
   "metadata": {
    "ExecuteTime": {
     "end_time": "2020-10-20T05:20:21.460400Z",
     "start_time": "2020-10-20T05:20:21.449265Z"
    }
   },
   "outputs": [],
   "source": [
    "class ResizeTransformer(BaseEstimator, TransformerMixin):\n",
    "    '''This class is a TransformerMixIn which takes a shape parameter to resize images when using the transform method'''\n",
    "    def __init__(self, shape=(128,128)):\n",
    "        self.shape = shape\n",
    "    \n",
    "    def fit(self, X, y=None):\n",
    "        return self\n",
    "    \n",
    "    def transform(self, X, y=None):\n",
    "        X = np.array([resize(img, output_shape=self.shape) for img in X])\n",
    "        return X\n",
    "\n",
    "class GrayTransformer(BaseEstimator, TransformerMixin):\n",
    "    '''This class is a TransformerMixIn which transforms images into grayscale'''\n",
    "    def fit(self, X, y=None):\n",
    "        return self\n",
    "    \n",
    "    def transform(self, X, y=None):\n",
    "        try:\n",
    "            if X.shape[3] == 3:\n",
    "                X = np.array([rgb2gray(img) for img in X])\n",
    "            return X\n",
    "        except: # to continue the pipeline if already in grayscale\n",
    "            return X\n",
    "        \n",
    "class HogTransformer(BaseEstimator, TransformerMixin):\n",
    "    '''This class is a TransformerMixIn with mirrored parameters from the skimage.feature hog function\n",
    "    that takes an image and applies the hog function over it'''\n",
    "    def __init__(self,\n",
    "    orientations=9,\n",
    "    pixels_per_cell=(8, 8),\n",
    "    cells_per_block=(4, 4),\n",
    "    block_norm='L2-Hys',\n",
    "    visualize=False,\n",
    "    transform_sqrt=False,\n",
    "    feature_vector=True,\n",
    "    multichannel=None\n",
    "    ):\n",
    "        \n",
    "        self.orientations = orientations\n",
    "        self.pixels_per_cell = pixels_per_cell\n",
    "        self.cells_per_block = cells_per_block\n",
    "        self.block_norm = block_norm\n",
    "        self.visualize = visualize\n",
    "        self.transform_sqrt = transform_sqrt\n",
    "        self.feature_vector = feature_vector\n",
    "        self.multichannel = multichannel\n",
    "\n",
    "    def fit(self, X, y=None):\n",
    "        return self\n",
    "    \n",
    "    def transform(self, X, y=None):\n",
    "        X = np.array([hog(img,\n",
    "                          orientations=self.orientations,\n",
    "                          pixels_per_cell=self.pixels_per_cell,\n",
    "                          cells_per_block=self.cells_per_block,\n",
    "                          block_norm=self.block_norm,\n",
    "                          visualize=self.visualize,\n",
    "                          transform_sqrt=self.transform_sqrt,\n",
    "                          feature_vector=self.feature_vector,\n",
    "                          multichannel=self.multichannel           \n",
    "        ) for img in X])\n",
    "        return X"
   ]
  },
  {
   "cell_type": "markdown",
   "metadata": {},
   "source": [
    "## Data Import\n",
    "if running this on a slow computer, I would recommend setting conserve_memory=True."
   ]
  },
  {
   "cell_type": "code",
   "execution_count": 3,
   "metadata": {
    "ExecuteTime": {
     "end_time": "2020-10-20T05:20:22.266515Z",
     "start_time": "2020-10-20T05:20:21.471918Z"
    }
   },
   "outputs": [],
   "source": [
    "glass = imread_collection('./images/glass/*', conserve_memory=False)\n",
    "car = imread_collection('./images/car/*', conserve_memory=False)\n",
    "\n",
    "X = np.concatenate((glass, car))\n",
    "\n",
    "y = (np.zeros(len(glass)) + 1)\n",
    "y = np.concatenate((y, np.zeros(len(car))))\n",
    "\n",
    "#Clearing memory\n",
    "glass = None\n",
    "car = None\n",
    "\n",
    "del glass\n",
    "del car"
   ]
  },
  {
   "cell_type": "markdown",
   "metadata": {},
   "source": [
    "## Preprocessing\n",
    "In this section I am converting the images into grayscale, resizing them into 128 x 128, using SMOTE to oversample my underrepresented class for my train data, and finally calling the data in a keras ImageDataGenerator to randomly augment my dataset."
   ]
  },
  {
   "cell_type": "code",
   "execution_count": 6,
   "metadata": {
    "ExecuteTime": {
     "end_time": "2020-10-20T05:21:35.499021Z",
     "start_time": "2020-10-20T05:20:39.647425Z"
    }
   },
   "outputs": [],
   "source": [
    "process = make_pipeline(GrayTransformer(), ResizeTransformer(shape=(128,128,1)))\n",
    "X = process.transform(X)\n",
    "\n",
    "X_train, X_test, y_train, y_test = train_test_split(X, y, stratify=y, random_state=42, test_size=.2)\n",
    "\n",
    "#for streamlit demo\n",
    "dump(X, '.streamlit/data/imgs.pkl', compress=9)\n",
    "dump(y, '.streamlit/data/labels.pkl', compress=9)"
   ]
  },
  {
   "cell_type": "markdown",
   "metadata": {},
   "source": [
    "Using SMOTE to oversample unbalanced classes for train data"
   ]
  },
  {
   "cell_type": "code",
   "execution_count": 7,
   "metadata": {
    "ExecuteTime": {
     "end_time": "2020-10-20T05:21:43.336215Z",
     "start_time": "2020-10-20T05:21:35.533031Z"
    }
   },
   "outputs": [],
   "source": [
    "X_train = X_train.reshape(X_train.shape[0], -1) #reshape for SMOTE\n",
    "\n",
    "X_train, y_train = SMOTE(random_state=42).fit_sample(X_train, y_train)\n",
    "\n",
    "X_train = X_train.reshape(X_train.shape[0], 128, 128, 1) #reshape back into image format"
   ]
  },
  {
   "cell_type": "markdown",
   "metadata": {},
   "source": [
    "Clearing memory assignment"
   ]
  },
  {
   "cell_type": "code",
   "execution_count": 8,
   "metadata": {
    "ExecuteTime": {
     "end_time": "2020-10-20T05:21:43.388345Z",
     "start_time": "2020-10-20T05:21:43.368367Z"
    }
   },
   "outputs": [],
   "source": [
    "X = None\n",
    "y = None\n",
    "\n",
    "del X\n",
    "del y"
   ]
  },
  {
   "cell_type": "markdown",
   "metadata": {},
   "source": [
    "Setting up image data generators. The validation generator has fewer augmentations so that the resulting validation scores are more consistent. I didn't want deviations from the generator itself making it seem like progress hasn't been made."
   ]
  },
  {
   "cell_type": "code",
   "execution_count": 9,
   "metadata": {
    "ExecuteTime": {
     "end_time": "2020-10-20T05:21:43.472114Z",
     "start_time": "2020-10-20T05:21:43.417236Z"
    }
   },
   "outputs": [],
   "source": [
    "train_gen = ImageDataGenerator(\n",
    "    rotation_range=45,\n",
    "    width_shift_range=0.2,\n",
    "    height_shift_range=0.2,\n",
    "    zoom_range=0.2,\n",
    "    horizontal_flip=True\n",
    ").flow(x=X_train, y=y_train,seed=42)\n",
    "\n",
    "validation_gen = ImageDataGenerator(\n",
    "    horizontal_flip=True\n",
    ").flow(x=X_test, y=y_test, seed=42)"
   ]
  },
  {
   "cell_type": "markdown",
   "metadata": {},
   "source": [
    "## Support Vector Machine Method\n",
    "For this method as the entire dataset needs to be fit upon at once, I created a function to aggregate the augmentations."
   ]
  },
  {
   "cell_type": "code",
   "execution_count": 10,
   "metadata": {
    "ExecuteTime": {
     "end_time": "2020-10-19T23:33:38.460628Z",
     "start_time": "2020-10-19T23:31:52.522641Z"
    }
   },
   "outputs": [],
   "source": [
    "def generate_augmented_images(image_generator, num_batches = 100):\n",
    "    \n",
    "    X_, y_ = image_generator.next()\n",
    "    \n",
    "    for i in range(num_batches):\n",
    "        batch = image_generator.next()\n",
    "        X_temp, y_temp = (batch[0], batch[1])\n",
    "        X_ = np.concatenate((X_, X_temp))\n",
    "        y_ = np.concatenate((y_, y_temp))\n",
    "        \n",
    "    return (X_, y_)\n",
    "\n",
    "X_train_svm, y_train_svm = generate_augmented_images(train_gen, 500)\n",
    "X_test_svm, y_test_svm = generate_augmented_images(validation_gen, 20)"
   ]
  },
  {
   "cell_type": "markdown",
   "metadata": {},
   "source": [
    "Setting up SVM pipeline"
   ]
  },
  {
   "cell_type": "code",
   "execution_count": 11,
   "metadata": {
    "ExecuteTime": {
     "end_time": "2020-10-19T23:33:38.563354Z",
     "start_time": "2020-10-19T23:33:38.560361Z"
    }
   },
   "outputs": [],
   "source": [
    "svm = Pipeline([\n",
    "    ('hog', HogTransformer(orientations=12)),\n",
    "    ('ss', StandardScaler()),\n",
    "    ('pca', PCA(n_components=256)),\n",
    "    ('model', SVC())\n",
    "],\n",
    "verbose=1)"
   ]
  },
  {
   "cell_type": "markdown",
   "metadata": {},
   "source": [
    "Setting up for hyperparameter tuning using Bayesian Optimization"
   ]
  },
  {
   "cell_type": "code",
   "execution_count": 12,
   "metadata": {
    "ExecuteTime": {
     "end_time": "2020-10-19T23:33:38.678046Z",
     "start_time": "2020-10-19T23:33:38.670068Z"
    }
   },
   "outputs": [],
   "source": [
    "scorer = make_scorer(roc_auc_score) # we care both about the true positive rate and the false positive rate\n",
    "\n",
    "opt_params = {\n",
    "    'hog__orientations':[i for i in range(1,32)],\n",
    "    'hog__transform_sqrt':[True, False],\n",
    "    'hog__block_norm': ['L2', 'L2-Hys'],\n",
    "    'pca__n_components':[64,128,256],\n",
    "    'model__gamma': ['scale', 'auto'],\n",
    "    'model__C': [.01,.1,.25,.5,.75,1]\n",
    "}\n",
    "\n",
    "opt = BayesSearchCV(svm,\n",
    "                   opt_params,\n",
    "                   n_iter=30,\n",
    "                   verbose=1,\n",
    "                   cv=3,\n",
    "                   random_state=42,\n",
    "                   n_jobs=-1,\n",
    "                   pre_dispatch='2*n_jobs',\n",
    "                   scoring=scorer)"
   ]
  },
  {
   "cell_type": "markdown",
   "metadata": {},
   "source": [
    "Searching for best hyperparameters. I cleared the output as it was very long."
   ]
  },
  {
   "cell_type": "code",
   "execution_count": null,
   "metadata": {
    "ExecuteTime": {
     "end_time": "2020-10-20T01:34:39.883711Z",
     "start_time": "2020-10-19T23:34:22.474978Z"
    }
   },
   "outputs": [],
   "source": [
    "opt.fit(X_train_svm, y_train_svm)"
   ]
  },
  {
   "cell_type": "markdown",
   "metadata": {},
   "source": [
    "The resulting metrics for my best SVM model actually surprised me. Later on when I manually configure a CNN, I could never actually get close to these scores for the validation data."
   ]
  },
  {
   "cell_type": "code",
   "execution_count": 166,
   "metadata": {
    "ExecuteTime": {
     "end_time": "2020-10-21T17:27:51.430773Z",
     "start_time": "2020-10-21T17:27:21.780225Z"
    }
   },
   "outputs": [
    {
     "name": "stdout",
     "output_type": "stream",
     "text": [
      "Best Parameters:  {'hog': HogTransformer(orientations=11, transform_sqrt=True), 'ss': StandardScaler(), 'pca': PCA(n_components=64), 'model': SVC()}\n",
      "Test ROC-AUC Score:  0.9286115007012623\n",
      "Train ROC-AUC score:  0.9402173913043479\n",
      "Test Accuracy Score:  0.9265536723163842\n",
      "Train Accuracy score:  0.9402173913043478\n",
      "Support Vector Shape:  (5165, 64)\n"
     ]
    },
    {
     "data": {
      "image/png": "[encoded data removed]",
      "text/plain": [
       "<Figure size 432x288 with 2 Axes>"
      ]
     },
     "metadata": {
      "needs_background": "light"
     },
     "output_type": "display_data"
    }
   ],
   "source": [
    "print('Best Parameters: ', opt.best_estimator_)\n",
    "print('Test ROC-AUC Score: ', opt.score(X_test_svm, y_test_svm))\n",
    "print('Train ROC-AUC Score: ', opt.score(X_train_svm, y_train_svm))\n",
    "print('Test Accuracy Score: ', opt.best_estimator_.score(X_test_svm, y_test_svm))\n",
    "print('Train Accuracy Score: ', opt.best_estimator_.score(X_train_svm, y_train_svm))\n",
    "print('Support Vector Shape: ', opt.best_estimator_.named_steps['model'].support_vectors_.shape) # important for model size\n",
    "\n",
    "confusion = confusion_matrix(y_test, opt.predict(X_test))\n",
    "sns.heatmap(confusion, annot=True, fmt='g');"
   ]
  },
  {
   "cell_type": "markdown",
   "metadata": {
    "ExecuteTime": {
     "end_time": "2020-10-21T16:06:39.700758Z",
     "start_time": "2020-10-21T16:06:39.680955Z"
    }
   },
   "source": [
    "Saving best model"
   ]
  },
  {
   "cell_type": "code",
   "execution_count": null,
   "metadata": {
    "ExecuteTime": {
     "end_time": "2020-10-20T03:46:20.087154Z",
     "start_time": "2020-10-20T03:46:19.524735Z"
    }
   },
   "outputs": [],
   "source": [
    "dump(opt.best_estimator_, './Saved Models/svm.pkl', compress=1)"
   ]
  },
  {
   "cell_type": "markdown",
   "metadata": {
    "ExecuteTime": {
     "end_time": "2020-10-20T03:46:33.470741Z",
     "start_time": "2020-10-20T03:46:33.420314Z"
    }
   },
   "source": [
    "Removing unneeded variables from memory"
   ]
  },
  {
   "cell_type": "code",
   "execution_count": 23,
   "metadata": {
    "ExecuteTime": {
     "end_time": "2020-10-20T03:46:33.470741Z",
     "start_time": "2020-10-20T03:46:33.420314Z"
    }
   },
   "outputs": [],
   "source": [
    "X_train_svm = None\n",
    "X_test_svm = None\n",
    "\n",
    "y_train_svm = None\n",
    "y_test_svm = None\n",
    "\n",
    "del X_train_svm\n",
    "del X_test_svm\n",
    "\n",
    "del y_train_svm\n",
    "del y_test_svm"
   ]
  },
  {
   "cell_type": "markdown",
   "metadata": {},
   "source": [
    "Testing saved model"
   ]
  },
  {
   "cell_type": "code",
   "execution_count": 161,
   "metadata": {
    "ExecuteTime": {
     "end_time": "2020-10-21T17:21:33.956421Z",
     "start_time": "2020-10-21T17:21:31.629603Z"
    }
   },
   "outputs": [
    {
     "name": "stdout",
     "output_type": "stream",
     "text": [
      "0.9265536723163842\n"
     ]
    }
   ],
   "source": [
    "saved_model = load('./Saved Models/svm.pkl') # testing saved model\n",
    "print(saved_model.score(X_test, y_test))\n",
    "saved_model = None"
   ]
  },
  {
   "cell_type": "markdown",
   "metadata": {},
   "source": [
    "## Convolutional Neural Network Method\n",
    "In this section I manually tuned a convolutional network to explore: the optimal number of layers, activation function types, whether or not to use batchnormalization, whether or not to use drop, and learning rates."
   ]
  },
  {
   "cell_type": "code",
   "execution_count": 167,
   "metadata": {
    "ExecuteTime": {
     "end_time": "2020-10-21T17:41:59.666200Z",
     "start_time": "2020-10-21T17:41:59.650159Z"
    }
   },
   "outputs": [],
   "source": [
    "model = Sequential()"
   ]
  },
  {
   "cell_type": "markdown",
   "metadata": {},
   "source": [
    "Output was cleared to allow for reading in github"
   ]
  },
  {
   "cell_type": "code",
   "execution_count": null,
   "metadata": {
    "ExecuteTime": {
     "end_time": "2020-10-21T17:53:21.333857Z",
     "start_time": "2020-10-21T17:42:01.690468Z"
    }
   },
   "outputs": [],
   "source": [
    "model.add(Input((128,128,1)))\n",
    "\n",
    "model.add(Conv2D(32, kernel_size=(3,3), padding='same', strides=1, activation='relu'))\n",
    "model.add(MaxPooling2D(pool_size=(3,3)))\n",
    "\n",
    "model.add(Conv2D(32, kernel_size=(3,3), padding='same', strides=1, activation='relu'))\n",
    "model.add(Conv2D(64, kernel_size=(3,3), padding='same', strides=1, activation='relu'))\n",
    "model.add(MaxPooling2D(pool_size=(3,3)))\n",
    "\n",
    "model.add(Conv2D(32, kernel_size=(3,3), padding='same', strides=1, activation='relu'))\n",
    "model.add(Conv2D(64, kernel_size=(3,3), padding='same', strides=1, activation='relu'))\n",
    "model.add(Conv2D(128, kernel_size=(3,3), padding='same', strides=1, activation='relu'))\n",
    "model.add(MaxPooling2D(pool_size=(3,3)))\n",
    "\n",
    "model.add(Flatten())\n",
    "\n",
    "model.add(Dense(512, activation='relu'))\n",
    "model.add(Dropout(.5))\n",
    "\n",
    "model.add(Dense(1, activation='sigmoid'))\n",
    "\n",
    "adam = Adam(learning_rate=.000001)\n",
    "\n",
    "model.compile(loss='binary_crossentropy', optimizer=adam, metrics=['accuracy', 'AUC'])\n",
    "\n",
    "stop = EarlyStopping(monitor='loss', patience=50)\n",
    "\n",
    "batch_size = 64\n",
    "epochs = 5_000\n",
    "\n",
    "history = model.fit(train_gen,\n",
    "                        batch_size=batch_size,\n",
    "                        validation_data=validation_gen,\n",
    "                        validation_steps=validation_gen.x.shape[0]/batch_size,\n",
    "                        steps_per_epoch=train_gen.x.shape[0]/batch_size,\n",
    "                        epochs=epochs,\n",
    "                        callbacks=stop,\n",
    "                        verbose=2)"
   ]
  },
  {
   "cell_type": "code",
   "execution_count": 169,
   "metadata": {
    "ExecuteTime": {
     "end_time": "2020-10-21T17:54:28.801969Z",
     "start_time": "2020-10-21T17:54:28.448522Z"
    }
   },
   "outputs": [
    {
     "name": "stdout",
     "output_type": "stream",
     "text": [
      "12/12 [==============================] - ETA: 0s - loss: 0.3432 - accuracy: 0.8750 - auc: 0.92 - ETA: 0s - loss: 0.3347 - accuracy: 0.8636 - auc: 0.93 - 0s 5ms/step - loss: 0.3332 - accuracy: 0.8644 - auc: 0.9382\n"
     ]
    }
   ],
   "source": [
    "val_scores = model.evaluate(X_test, y_test)"
   ]
  },
  {
   "cell_type": "markdown",
   "metadata": {},
   "source": [
    "The accuracy of 86% and roc auc of .94 is fairly decent. There seems to be more false positives than false negatives."
   ]
  },
  {
   "cell_type": "code",
   "execution_count": 170,
   "metadata": {
    "ExecuteTime": {
     "end_time": "2020-10-21T17:54:29.827044Z",
     "start_time": "2020-10-21T17:54:29.600382Z"
    }
   },
   "outputs": [
    {
     "name": "stdout",
     "output_type": "stream",
     "text": [
      "Validation scores:  [0.3332103490829468, 0.8644067645072937, 0.9381662011146545]\n"
     ]
    },
    {
     "data": {
      "image/png": "[encoded data removed]",
      "text/plain": [
       "<Figure size 432x288 with 2 Axes>"
      ]
     },
     "metadata": {
      "needs_background": "light"
     },
     "output_type": "display_data"
    }
   ],
   "source": [
    "print('Validation scores: ', val_scores)\n",
    "confusion = confusion_matrix(y_test, np.round(model.predict(X_test)).reshape(-1))\n",
    "sns.heatmap(confusion, annot=True, fmt='g');"
   ]
  },
  {
   "cell_type": "markdown",
   "metadata": {},
   "source": [
    "One issue in looking at the different metrics is that each time I train the model it sees different images unless I restart the kernel. I tried to overcome this issue with a low learning rate, but it still happens to some degree. I ended up adding layers until accuracy wouldn't increase anymore and there was only a moderate overfit."
   ]
  },
  {
   "cell_type": "code",
   "execution_count": 171,
   "metadata": {
    "ExecuteTime": {
     "end_time": "2020-10-21T17:55:07.455678Z",
     "start_time": "2020-10-21T17:55:07.304793Z"
    }
   },
   "outputs": [
    {
     "data": {
      "image/png": "[encoded data removed]",
      "text/plain": [
       "<Figure size 1440x864 with 1 Axes>"
      ]
     },
     "metadata": {
      "needs_background": "light"
     },
     "output_type": "display_data"
    }
   ],
   "source": [
    "plt.figure(figsize=(20,12))\n",
    "plt.plot(history.history['loss'])\n",
    "plt.plot(history.history['val_loss']);\n",
    "plt.legend(['Train', 'Validation']);\n",
    "plt.xlabel('Epochs', fontdict={'fontsize':24});\n",
    "plt.ylabel('Loss', fontdict={'fontsize':24});\n",
    "plt.title('Train Versus Validation Loss', fontdict={'fontsize':32});"
   ]
  },
  {
   "cell_type": "markdown",
   "metadata": {},
   "source": [
    "Saving model as a tflite file"
   ]
  },
  {
   "cell_type": "code",
   "execution_count": 172,
   "metadata": {
    "ExecuteTime": {
     "end_time": "2020-10-21T17:56:20.860606Z",
     "start_time": "2020-10-21T17:56:20.855620Z"
    }
   },
   "outputs": [],
   "source": [
    "def save_keras_model(model, filename):\n",
    "\n",
    "    converter = tf_lite.TFLiteConverter.from_keras_model(model)\n",
    "\n",
    "    lite_model = converter.convert()\n",
    "\n",
    "    with open(f'./Saved Models/{filename}.tflite', 'wb') as f:\n",
    "        f.write(lite_model)\n",
    "\n",
    "    model_loaded = tf_lite.Interpreter(model_path=f'./Saved Models/{filename}.tflite')"
   ]
  },
  {
   "cell_type": "code",
   "execution_count": null,
   "metadata": {
    "ExecuteTime": {
     "end_time": "2020-10-21T17:56:26.243874Z",
     "start_time": "2020-10-21T17:56:23.552097Z"
    }
   },
   "outputs": [],
   "source": [
    "save_keras_model(model, 'cnn')"
   ]
  },
  {
   "cell_type": "markdown",
   "metadata": {},
   "source": [
    "## Fine Tuning CNN"
   ]
  },
  {
   "cell_type": "markdown",
   "metadata": {},
   "source": [
    "Using what I explored in the above model, I wanted to try out numerous configurations for my CNN that would take a long time to do manually. In this section I took the above connfiguration and adding min/max values for hyperparameter searching. Hyperbanding was the technique used. It is something that tests a variety of configurations, compares them to one another and picks half to continue training. This keeps going until it finds what it thinks is the optimal model."
   ]
  },
  {
   "cell_type": "code",
   "execution_count": 16,
   "metadata": {
    "ExecuteTime": {
     "end_time": "2020-10-20T05:30:46.652114Z",
     "start_time": "2020-10-20T05:30:46.638143Z"
    }
   },
   "outputs": [],
   "source": [
    "filters_min = 32\n",
    "filters_max = 256\n",
    "pool_min = 2\n",
    "pool_max = 4\n",
    "kernel_min = 3\n",
    "kernel_max = 9\n",
    "\n",
    "\n",
    "class CNN_HyperModel(HyperModel):\n",
    "    '''This class contains the configurations to test the cnn model with for this project.'''\n",
    "    def build(self, hp):\n",
    "        \n",
    "        model = Sequential()\n",
    "        \n",
    "        model.add(Input((128,128,1)))\n",
    "        \n",
    "        model.add(Conv2D(filters=hp.Int('filters1', min_value=filters_min, max_value=filters_max, step=32),\n",
    "                         kernel_size=hp.Int('kernels1', min_value=kernel_min, max_value=kernel_max, step=2),\n",
    "                         strides=1,\n",
    "                         activation='relu', padding='same'))\n",
    "        model.add(MaxPooling2D(pool_size=hp.Int('pool1', min_value=pool_min, max_value=pool_max, step=1)))\n",
    "        \n",
    "        model.add(Conv2D(filters=hp.Int('filters2', min_value=filters_min, max_value=filters_max, step=32),\n",
    "                         kernel_size=hp.Int('kernels2', min_value=kernel_min, max_value=kernel_max, step=2),\n",
    "                         strides=1,\n",
    "                         activation='relu', padding='same'))\n",
    "        model.add(Conv2D(filters=hp.Int('filters3', min_value=filters_min, max_value=filters_max, step=32),\n",
    "                         kernel_size=hp.Int('kernels3', min_value=kernel_min, max_value=kernel_max, step=2),\n",
    "                         strides=1,\n",
    "                         activation='relu', padding='same'))\n",
    "        model.add(MaxPooling2D(pool_size=hp.Int('pool2', min_value=pool_min, max_value=pool_max, step=1)))\n",
    "        \n",
    "        model.add(Conv2D(filters=hp.Int('filters4', min_value=filters_min, max_value=filters_max, step=32),\n",
    "                         kernel_size=hp.Int('kernels4', min_value=kernel_min, max_value=kernel_max, step=2),\n",
    "                         strides=1,\n",
    "                         activation='relu', padding='same'))\n",
    "        model.add(Conv2D(filters=hp.Int('filters5', min_value=filters_min, max_value=filters_max, step=32),\n",
    "                         kernel_size=hp.Int('kernels5', min_value=kernel_min, max_value=kernel_max, step=2),\n",
    "                         strides=1,\n",
    "                         activation='relu', padding='same'))\n",
    "        model.add(Conv2D(filters=hp.Int('filters6', min_value=filters_min, max_value=filters_max, step=32),\n",
    "                         kernel_size=hp.Int('kernels6', min_value=kernel_min, max_value=kernel_max, step=2),\n",
    "                         strides=1,\n",
    "                         activation='relu', padding='same'))\n",
    "        model.add(MaxPooling2D(pool_size=hp.Int('pool3', min_value=pool_min, max_value=pool_max, step=1)))\n",
    "        \n",
    "        model.add(Flatten())\n",
    "        \n",
    "        model.add(Dense(hp.Int('dense1', min_value=64, max_value=512, step=64), activation='relu'))\n",
    "        model.add(Dropout(hp.Float('dropout1', min_value=0, max_value=.5, step=.1)))\n",
    "\n",
    "        model.add(Dense(1, activation='sigmoid'))\n",
    "        \n",
    "        model.compile(loss='binary_crossentropy', optimizer=Adam(hp.Float('adam1',\n",
    "            min_value=1e-6, max_value=1e-2, sampling='LOG')), metrics=['accuracy', 'AUC'])\n",
    "        \n",
    "        return model"
   ]
  },
  {
   "cell_type": "code",
   "execution_count": 17,
   "metadata": {
    "ExecuteTime": {
     "end_time": "2020-10-20T05:30:47.861595Z",
     "start_time": "2020-10-20T05:30:47.669478Z"
    }
   },
   "outputs": [],
   "source": [
    "hypermodel = CNN_HyperModel()\n",
    "\n",
    "hyperband = Hyperband(hypermodel, objective='loss', max_epochs=200, seed=42)"
   ]
  },
  {
   "cell_type": "markdown",
   "metadata": {},
   "source": [
    "**Warning** to run the below will take up around 15GB of space and can take hours to run even on an nvidia graphics card. The output was cleared to be able to load in github."
   ]
  },
  {
   "cell_type": "code",
   "execution_count": null,
   "metadata": {
    "ExecuteTime": {
     "end_time": "2020-10-20T10:51:42.335941Z",
     "start_time": "2020-10-20T05:30:52.071643Z"
    }
   },
   "outputs": [],
   "source": [
    "hyperband.search(x = train_gen, verbose=0)"
   ]
  },
  {
   "cell_type": "code",
   "execution_count": 138,
   "metadata": {
    "ExecuteTime": {
     "end_time": "2020-10-21T16:14:38.945157Z",
     "start_time": "2020-10-21T16:14:38.261107Z"
    }
   },
   "outputs": [],
   "source": [
    "model = hyperband.get_best_models(num_models=1)[0]"
   ]
  },
  {
   "cell_type": "markdown",
   "metadata": {},
   "source": [
    "The below is the best CNN configuration chosen by the optimization."
   ]
  },
  {
   "cell_type": "code",
   "execution_count": 99,
   "metadata": {
    "ExecuteTime": {
     "end_time": "2020-10-20T15:27:53.270896Z",
     "start_time": "2020-10-20T15:27:53.250000Z"
    }
   },
   "outputs": [
    {
     "name": "stdout",
     "output_type": "stream",
     "text": [
      "Model: \"sequential\"\n",
      "_________________________________________________________________\n",
      "Layer (type)                 Output Shape              Param #   \n",
      "=================================================================\n",
      "conv2d (Conv2D)              (None, 128, 128, 64)      1664      \n",
      "_________________________________________________________________\n",
      "max_pooling2d (MaxPooling2D) (None, 42, 42, 64)        0         \n",
      "_________________________________________________________________\n",
      "conv2d_1 (Conv2D)            (None, 42, 42, 224)       129248    \n",
      "_________________________________________________________________\n",
      "conv2d_2 (Conv2D)            (None, 42, 42, 128)       258176    \n",
      "_________________________________________________________________\n",
      "max_pooling2d_1 (MaxPooling2 (None, 14, 14, 128)       0         \n",
      "_________________________________________________________________\n",
      "conv2d_3 (Conv2D)            (None, 14, 14, 96)        602208    \n",
      "_________________________________________________________________\n",
      "conv2d_4 (Conv2D)            (None, 14, 14, 160)       138400    \n",
      "_________________________________________________________________\n",
      "conv2d_5 (Conv2D)            (None, 14, 14, 64)        256064    \n",
      "_________________________________________________________________\n",
      "max_pooling2d_2 (MaxPooling2 (None, 3, 3, 64)          0         \n",
      "_________________________________________________________________\n",
      "flatten (Flatten)            (None, 576)               0         \n",
      "_________________________________________________________________\n",
      "dense (Dense)                (None, 192)               110784    \n",
      "_________________________________________________________________\n",
      "dropout (Dropout)            (None, 192)               0         \n",
      "_________________________________________________________________\n",
      "dense_1 (Dense)              (None, 1)                 193       \n",
      "=================================================================\n",
      "Total params: 1,496,737\n",
      "Trainable params: 1,496,737\n",
      "Non-trainable params: 0\n",
      "_________________________________________________________________\n"
     ]
    }
   ],
   "source": [
    "model.summary()"
   ]
  },
  {
   "cell_type": "code",
   "execution_count": 158,
   "metadata": {
    "ExecuteTime": {
     "end_time": "2020-10-21T16:19:29.968271Z",
     "start_time": "2020-10-21T16:19:29.788939Z"
    }
   },
   "outputs": [
    {
     "name": "stdout",
     "output_type": "stream",
     "text": [
      "12/12 [==============================] - ETA: 0s - loss: 0.3655 - accuracy: 0.9375 - auc: 0.96 - ETA: 0s - loss: 0.4607 - accuracy: 0.9531 - auc: 0.97 - ETA: 0s - loss: 0.3810 - accuracy: 0.9602 - auc: 0.98 - 0s 10ms/step - loss: 0.3788 - accuracy: 0.9605 - auc: 0.9824\n"
     ]
    }
   ],
   "source": [
    "val_scores = model.evaluate(validation_gen)"
   ]
  },
  {
   "cell_type": "markdown",
   "metadata": {},
   "source": [
    "The below shows that the model selected is by far and away better than all of the previous models in both accuracy and roc auc."
   ]
  },
  {
   "cell_type": "code",
   "execution_count": 159,
   "metadata": {
    "ExecuteTime": {
     "end_time": "2020-10-21T16:19:30.538944Z",
     "start_time": "2020-10-21T16:19:30.300573Z"
    }
   },
   "outputs": [
    {
     "name": "stdout",
     "output_type": "stream",
     "text": [
      "Validation loss: [0.37883710861206055, 0.9604519605636597, 0.9824333786964417]\n"
     ]
    },
    {
     "data": {
      "image/png": "[encoded data removed]",
      "text/plain": [
       "<Figure size 432x288 with 2 Axes>"
      ]
     },
     "metadata": {
      "needs_background": "light"
     },
     "output_type": "display_data"
    }
   ],
   "source": [
    "print(f'Validation loss: {val_scores}')\n",
    "confusion = confusion_matrix(y_test, np.round(model.predict(X_test)).reshape(-1))\n",
    "sns.heatmap(confusion, annot=True, fmt='g');"
   ]
  },
  {
   "cell_type": "code",
   "execution_count": null,
   "metadata": {
    "ExecuteTime": {
     "end_time": "2020-10-20T15:32:03.410573Z",
     "start_time": "2020-10-20T15:32:01.280952Z"
    }
   },
   "outputs": [],
   "source": [
    "save_keras_model(model, 'tuned_cnn')"
   ]
  },
  {
   "cell_type": "markdown",
   "metadata": {},
   "source": [
    "Testing to make sure my saved model works"
   ]
  },
  {
   "cell_type": "code",
   "execution_count": 180,
   "metadata": {
    "ExecuteTime": {
     "end_time": "2020-10-21T18:32:51.300561Z",
     "start_time": "2020-10-21T18:32:50.940199Z"
    }
   },
   "outputs": [
    {
     "name": "stdout",
     "output_type": "stream",
     "text": [
      "Prediction results shape: (32, 1)\n",
      "ROC AUC Score:  0.9954545454545455\n"
     ]
    }
   ],
   "source": [
    "model_loaded = tf_lite.Interpreter(model_path=\"./Saved Models/tuned_cnn.tflite\")\n",
    "\n",
    "input_details = model_loaded.get_input_details()\n",
    "output_details = model_loaded.get_output_details()\n",
    "\n",
    "model_loaded.resize_tensor_input(input_details[0]['index'], (32, 128, 128, 1))\n",
    "model_loaded.resize_tensor_input(output_details[0]['index'], (32, 1))\n",
    "model_loaded.allocate_tensors()\n",
    "\n",
    "val_batch, val_label = validation_gen.next()\n",
    "model_loaded.set_tensor(input_details[0]['index'], val_batch)\n",
    "model_loaded.invoke()\n",
    "\n",
    "model_preds = model_loaded.get_tensor(output_details[0]['index'])\n",
    "print(\"Prediction results shape:\", model_preds.shape)\n",
    "print('ROC AUC Score: ', roc_auc_score(val_label, model_preds))"
   ]
  }
 ],
 "metadata": {
  "kernelspec": {
   "display_name": "Python 3",
   "language": "python",
   "name": "python3"
  },
  "language_info": {
   "codemirror_mode": {
    "name": "ipython",
    "version": 3
   },
   "file_extension": ".py",
   "mimetype": "text/x-python",
   "name": "python",
   "nbconvert_exporter": "python",
   "pygments_lexer": "ipython3",
   "version": "3.8.3"
  },
  "toc": {
   "base_numbering": 1,
   "nav_menu": {},
   "number_sections": true,
   "sideBar": true,
   "skip_h1_title": false,
   "title_cell": "Table of Contents",
   "title_sidebar": "Contents",
   "toc_cell": false,
   "toc_position": {},
   "toc_section_display": true,
   "toc_window_display": false
  },
  "varInspector": {
   "cols": {
    "lenName": 16,
    "lenType": 16,
    "lenVar": 40
   },
   "kernels_config": {
    "python": {
     "delete_cmd_postfix": "",
     "delete_cmd_prefix": "del ",
     "library": "var_list.py",
     "varRefreshCmd": "print(var_dic_list())"
    },
    "r": {
     "delete_cmd_postfix": ") ",
     "delete_cmd_prefix": "rm(",
     "library": "var_list.r",
     "varRefreshCmd": "cat(var_dic_list()) "
    }
   },
   "types_to_exclude": [
    "module",
    "function",
    "builtin_function_or_method",
    "instance",
    "_Feature"
   ],
   "window_display": false
  }
 },
 "nbformat": 4,
 "nbformat_minor": 4
}
