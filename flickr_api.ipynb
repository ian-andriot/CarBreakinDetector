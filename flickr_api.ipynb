{
 "cells": [
  {
   "cell_type": "code",
   "execution_count": 1,
   "metadata": {
    "ExecuteTime": {
     "end_time": "2020-10-20T20:58:02.519935Z",
     "start_time": "2020-10-20T20:57:59.705084Z"
    }
   },
   "outputs": [],
   "source": [
    "import requests\n",
    "from bs4 import BeautifulSoup\n",
    "import pandas as pd\n",
    "import json\n",
    "import shutil\n",
    "from time import sleep"
   ]
  },
  {
   "cell_type": "code",
   "execution_count": 2,
   "metadata": {
    "ExecuteTime": {
     "end_time": "2020-10-20T20:58:02.532896Z",
     "start_time": "2020-10-20T20:58:02.530879Z"
    }
   },
   "outputs": [],
   "source": [
    "api_key = 'YOUR_API_KEY_HERE' # input api key to be able to run this notebook"
   ]
  },
  {
   "cell_type": "markdown",
   "metadata": {},
   "source": [
    "This section returns a dataframe of the search results from flicker. Just change the string for the search_terms assignment and pages."
   ]
  },
  {
   "cell_type": "code",
   "execution_count": 175,
   "metadata": {},
   "outputs": [],
   "source": [
    "result = []\n",
    "search_terms = 'shattered window'.replace(' ', '+')\n",
    "pages = (21, 30)\n",
    "\n",
    "for i in range(pages[0], pages[1]):\n",
    "\n",
    "    url = f'https://www.flickr.com/services/rest/?method=flickr.photos.search&api_key={api_key}&text={search_terms}&format=json&nojsoncallback=1&page={i}'\n",
    "\n",
    "    req = requests.get(url)\n",
    "    soup = BeautifulSoup(req.content, 'lxml')\n",
    "    res = json.loads(soup.find('p').text)\n",
    "    res = res['photos']['photo']\n",
    "    result+=res\n",
    "    sleep(1)\n",
    "    \n",
    "result = pd.DataFrame(result)"
   ]
  },
  {
   "cell_type": "markdown",
   "metadata": {},
   "source": [
    "This section appends the images to a list from the above search results."
   ]
  },
  {
   "cell_type": "code",
   "execution_count": 176,
   "metadata": {},
   "outputs": [],
   "source": [
    "name = []\n",
    "img = []\n",
    "\n",
    "for i in range(len(result)):\n",
    "    server = result['server'][i]\n",
    "    secret = result['secret'][i]\n",
    "    id = result['id'][i]\n",
    "\n",
    "    name.append(f'{id}_{secret}_n.jpg')\n",
    "    img.append(f'https://live.staticflickr.com/{server}/{name[i]}')"
   ]
  },
  {
   "cell_type": "markdown",
   "metadata": {},
   "source": [
    "This section saves the images to a folder called flickr. It also saves the search results to a csv."
   ]
  },
  {
   "cell_type": "code",
   "execution_count": 178,
   "metadata": {},
   "outputs": [],
   "source": [
    "for i in range(len(img)):\n",
    "    sleep(1)\n",
    "    \n",
    "    r = requests.get(img[i], stream = True)\n",
    "    r.raw.decode_content = True\n",
    "\n",
    "    with open(f'./flickr/{name[i]}','wb') as f:\n",
    "        shutil.copyfileobj(r.raw, f)"
   ]
  },
  {
   "cell_type": "code",
   "execution_count": 179,
   "metadata": {},
   "outputs": [],
   "source": [
    "csv_name = search_terms.replace('+', '_')\n",
    "result.to_csv(f\"./flickr/{csv_name}.csv\", index=False)"
   ]
  }
 ],
 "metadata": {
  "kernelspec": {
   "display_name": "Python 3",
   "language": "python",
   "name": "python3"
  },
  "language_info": {
   "codemirror_mode": {
    "name": "ipython",
    "version": 3
   },
   "file_extension": ".py",
   "mimetype": "text/x-python",
   "name": "python",
   "nbconvert_exporter": "python",
   "pygments_lexer": "ipython3",
   "version": "3.8.3"
  },
  "toc": {
   "base_numbering": 1,
   "nav_menu": {},
   "number_sections": true,
   "sideBar": true,
   "skip_h1_title": false,
   "title_cell": "Table of Contents",
   "title_sidebar": "Contents",
   "toc_cell": false,
   "toc_position": {},
   "toc_section_display": true,
   "toc_window_display": false
  },
  "varInspector": {
   "cols": {
    "lenName": 16,
    "lenType": 16,
    "lenVar": 40
   },
   "kernels_config": {
    "python": {
     "delete_cmd_postfix": "",
     "delete_cmd_prefix": "del ",
     "library": "var_list.py",
     "varRefreshCmd": "print(var_dic_list())"
    },
    "r": {
     "delete_cmd_postfix": ") ",
     "delete_cmd_prefix": "rm(",
     "library": "var_list.r",
     "varRefreshCmd": "cat(var_dic_list()) "
    }
   },
   "types_to_exclude": [
    "module",
    "function",
    "builtin_function_or_method",
    "instance",
    "_Feature"
   ],
   "window_display": false
  }
 },
 "nbformat": 4,
 "nbformat_minor": 4
}
